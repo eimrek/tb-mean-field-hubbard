{
 "cells": [
  {
   "cell_type": "code",
   "execution_count": null,
   "metadata": {},
   "outputs": [],
   "source": [
    "import ase\n",
    "import ase.io\n",
    "import numpy as np\n",
    "\n",
    "import matplotlib.pyplot as plt\n",
    "\n",
    "import tb_mean_field_hubbard as tbmfh"
   ]
  },
  {
   "cell_type": "code",
   "execution_count": null,
   "metadata": {},
   "outputs": [],
   "source": [
    "# Geometry\n",
    "geom = ase.io.read(\"geom/clars_goblet.xyz\")\n",
    "\n",
    "# Use the following to scale all CC bonds to a specific length\n",
    "#tbmfh.utils.scale_to_cc_bond_length(geom, cc_bond=1.42)\n",
    "\n",
    "# Spin guess is set in atom tags (1 - up, 2 - down)\n",
    "# one option is to use the following (edit->modify)\n",
    "# to visualize the spin guess use (view->colors->by tag)\n",
    "geom.edit()"
   ]
  },
  {
   "cell_type": "code",
   "execution_count": null,
   "metadata": {},
   "outputs": [],
   "source": [
    "# Set up the main calculator object with tight-binding parameters\n",
    "\n",
    "mfh_model = tbmfh.MeanFieldHubbardModel(\n",
    "    geom,\n",
    "    t_list = [2.7, 0.1, 0.4], # List of n'th nearest neighbor hoppings in eV\n",
    "    charge = 0,\n",
    "    multiplicity = 1\n",
    ")\n",
    "\n",
    "mfh_model.print_parameters()\n",
    "mfh_model.visualize_spin_guess()"
   ]
  },
  {
   "cell_type": "code",
   "execution_count": null,
   "metadata": {},
   "outputs": [],
   "source": [
    "mfh_model.run_mfh(u = 3.0, print_iter=False, plot=False)"
   ]
  },
  {
   "cell_type": "code",
   "execution_count": null,
   "metadata": {
    "scrolled": false
   },
   "outputs": [],
   "source": [
    "mfh_model.report(num_orb=2, sts_h=10.0, sts_broad=0.05)"
   ]
  },
  {
   "cell_type": "code",
   "execution_count": null,
   "metadata": {},
   "outputs": [],
   "source": [
    "# Visualize one specific orbital\n",
    "\n",
    "spin = 0\n",
    "index = 0\n",
    "print(\"Orbital index: %d, spin %d\" % (index, spin))\n",
    "print(\"Energy: %.6f eV\" % mfh_model.evals[spin][index])\n",
    "mfh_model.plot_orbital(mo_index=index, spin=spin)\n",
    "\n",
    "# corresponding eigenvector (each element corresponds in order to atoms defined in geom/mfh_model.ase_geom)\n",
    "evec = mfh_model.evecs[spin][index]"
   ]
  },
  {
   "cell_type": "markdown",
   "metadata": {},
   "source": [
    "# Series calculations"
   ]
  },
  {
   "cell_type": "code",
   "execution_count": null,
   "metadata": {},
   "outputs": [],
   "source": [
    "geom = ase.io.read(\"geom/clars_goblet.xyz\")\n",
    "\n",
    "t = 2.7\n",
    "\n",
    "singlet_mfh_model = tbmfh.MeanFieldHubbardModel(geom, [t], charge=0, multiplicity=1)\n",
    "triplet_mfh_model = tbmfh.MeanFieldHubbardModel(geom, [t], charge=0, multiplicity=3)\n",
    "# (for the clar's goblet, the correct triplet state is found also with singlet initial guess)"
   ]
  },
  {
   "cell_type": "code",
   "execution_count": null,
   "metadata": {},
   "outputs": [],
   "source": [
    "# Reproducing Extended Data Fig. 1 from\n",
    "# Mishra 2020 \"Topological frustration induces unconventional magnetism in a nanographene\"\n",
    "\n",
    "u_t_ratios = np.arange(0.5, 1.6, 0.1)\n",
    "\n",
    "singlet_energies = []\n",
    "triplet_energies = []\n",
    "\n",
    "for ut_ratio in u_t_ratios:\n",
    "    \n",
    "    u = ut_ratio * t\n",
    "    \n",
    "    singlet_mfh_model.run_mfh(u)\n",
    "    singlet_energies.append(singlet_mfh_model.energy)\n",
    "    \n",
    "    triplet_mfh_model.run_mfh(u)\n",
    "    triplet_energies.append(triplet_mfh_model.energy)\n",
    "    \n",
    "singlet_energies = np.array(singlet_energies)\n",
    "triplet_energies = np.array(triplet_energies)\n",
    "\n",
    "st_gap = triplet_energies - singlet_energies"
   ]
  },
  {
   "cell_type": "code",
   "execution_count": null,
   "metadata": {},
   "outputs": [],
   "source": [
    "plt.plot(u_t_ratios, st_gap*1000, 'o-')\n",
    "plt.ylabel(\"triplet - singlet [meV]\")\n",
    "plt.xlabel(\"U/t\")\n",
    "plt.show()"
   ]
  },
  {
   "cell_type": "code",
   "execution_count": null,
   "metadata": {},
   "outputs": [],
   "source": []
  }
 ],
 "metadata": {
  "kernelspec": {
   "display_name": "Python 3",
   "language": "python",
   "name": "python3"
  },
  "language_info": {
   "codemirror_mode": {
    "name": "ipython",
    "version": 3
   },
   "file_extension": ".py",
   "mimetype": "text/x-python",
   "name": "python",
   "nbconvert_exporter": "python",
   "pygments_lexer": "ipython3",
   "version": "3.7.9"
  }
 },
 "nbformat": 4,
 "nbformat_minor": 2
}
