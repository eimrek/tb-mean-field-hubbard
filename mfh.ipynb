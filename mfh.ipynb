{
 "cells": [
  {
   "cell_type": "code",
   "execution_count": null,
   "metadata": {},
   "outputs": [],
   "source": [
    "import ase\n",
    "import ase.io\n",
    "import ase.visualize\n",
    "import numpy as np\n",
    "\n",
    "import matplotlib.pyplot as plt\n",
    "\n",
    "import tb_mean_field_hubbard as tbmfh"
   ]
  },
  {
   "cell_type": "code",
   "execution_count": null,
   "metadata": {},
   "outputs": [],
   "source": [
    "# GEOMETRY\n",
    "xyz_file = \"clars_goblet.xyz\"\n",
    "geom = ase.io.read(xyz_file)\n",
    "\n",
    "# Spin guess is set in atom tags (1 - up, 2 - down)\n",
    "# one option to modify it is with the following (edit->modify & file->save):\n",
    "#ase.visualize.view(geom)"
   ]
  },
  {
   "cell_type": "code",
   "execution_count": null,
   "metadata": {},
   "outputs": [],
   "source": [
    "# CALCULATION PARAMETERS\n",
    "\n",
    "t1 = -2.7 # first nearest neighbor\n",
    "t2 = -0.1 # second nearest neighbor\n",
    "t3 = -0.4 # third nearest neighbor\n",
    "\n",
    "t_list = [t1, t2, t3]\n",
    "\n",
    "charge = 0\n",
    "multiplicity = 1"
   ]
  },
  {
   "cell_type": "code",
   "execution_count": null,
   "metadata": {},
   "outputs": [],
   "source": [
    "mfh_model = tbmfh.MeanFieldHubbardModel(geom, t_list, charge, multiplicity)\n",
    "\n",
    "mfh_model.print_parameters()\n",
    "\n",
    "mfh_model.visualize_spin_guess()\n",
    "#mfh_model.visualize_tb_model()"
   ]
  },
  {
   "cell_type": "code",
   "execution_count": null,
   "metadata": {},
   "outputs": [],
   "source": [
    "mfh_model.run_mfh(u = 3.0, print_iter=False, plot=False)"
   ]
  },
  {
   "cell_type": "code",
   "execution_count": null,
   "metadata": {
    "scrolled": false
   },
   "outputs": [],
   "source": [
    "mfh_model.report(num_orb=1)"
   ]
  },
  {
   "cell_type": "code",
   "execution_count": null,
   "metadata": {},
   "outputs": [],
   "source": [
    "# Visualize one specific orbital\n",
    "\n",
    "spin = 0\n",
    "index = 20\n",
    "print(\"Orbital index: %d, spin %d\" % (index, spin))\n",
    "print(\"Energy: %.6f eV\" % mfh_model.evals[spin][index])\n",
    "mfh_model.plot_orbital(mo_index=index, spin=spin)\n",
    "\n",
    "# corresponding eigenvector (each element corresponds in order to atoms defined in geom/mfh_model.ase_geom)\n",
    "evec = mfh_model.evecs[spin][index]"
   ]
  },
  {
   "cell_type": "code",
   "execution_count": null,
   "metadata": {},
   "outputs": [],
   "source": [
    "# Series in U\n",
    "\n",
    "u_list = np.arange(0.0, 5.0, 0.1)\n",
    "abs_mag_list = []\n",
    "energy_list = []\n",
    "gap_list = []\n",
    "\n",
    "for u in u_list:\n",
    "    mfh_model.run_mfh(u = u, print_iter=False, plot=False)\n",
    "    abs_mag_list.append(mfh_model.mag_list[-1])\n",
    "    energy_list.append(mfh_model.energy_list[-1])\n",
    "    gap_list.append(mfh_model.gap_eff)"
   ]
  },
  {
   "cell_type": "code",
   "execution_count": null,
   "metadata": {},
   "outputs": [],
   "source": [
    "plt.plot(u_list, abs_mag_list, 'o')\n",
    "plt.ylabel(\"Absolute magnetization\")\n",
    "plt.xlabel(\"U [eV]\")\n",
    "plt.show()"
   ]
  }
 ],
 "metadata": {
  "kernelspec": {
   "display_name": "Python 3",
   "language": "python",
   "name": "python3"
  },
  "language_info": {
   "codemirror_mode": {
    "name": "ipython",
    "version": 3
   },
   "file_extension": ".py",
   "mimetype": "text/x-python",
   "name": "python",
   "nbconvert_exporter": "python",
   "pygments_lexer": "ipython3",
   "version": "3.7.6"
  }
 },
 "nbformat": 4,
 "nbformat_minor": 2
}
